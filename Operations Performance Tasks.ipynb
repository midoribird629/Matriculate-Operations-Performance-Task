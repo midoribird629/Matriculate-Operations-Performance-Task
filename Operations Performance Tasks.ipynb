{
 "cells": [
  {
   "cell_type": "markdown",
   "metadata": {},
   "source": [
    "# Analyzing Data Sets"
   ]
  },
  {
   "cell_type": "code",
   "execution_count": 1,
   "metadata": {
    "scrolled": true
   },
   "outputs": [
    {
     "name": "stdout",
     "output_type": "stream",
     "text": [
      "/Users/katiezhang/Desktop/Matriculate Data\r\n"
     ]
    }
   ],
   "source": [
    "!pwd"
   ]
  },
  {
   "cell_type": "code",
   "execution_count": 2,
   "metadata": {},
   "outputs": [],
   "source": [
    "mat_csv = 'MAT Performance Task Data Sheet.csv'"
   ]
  },
  {
   "cell_type": "code",
   "execution_count": 3,
   "metadata": {},
   "outputs": [
    {
     "data": {
      "text/html": [
       "<div>\n",
       "<style scoped>\n",
       "    .dataframe tbody tr th:only-of-type {\n",
       "        vertical-align: middle;\n",
       "    }\n",
       "\n",
       "    .dataframe tbody tr th {\n",
       "        vertical-align: top;\n",
       "    }\n",
       "\n",
       "    .dataframe thead th {\n",
       "        text-align: right;\n",
       "    }\n",
       "</style>\n",
       "<table border=\"1\" class=\"dataframe\">\n",
       "  <thead>\n",
       "    <tr style=\"text-align: right;\">\n",
       "      <th></th>\n",
       "      <th>Status</th>\n",
       "      <th>First Generation</th>\n",
       "      <th>Ethnicity</th>\n",
       "      <th>GPA</th>\n",
       "      <th>SAT</th>\n",
       "      <th>PSAT</th>\n",
       "      <th>ACT</th>\n",
       "      <th>How Did You Hear About Matriculate?</th>\n",
       "      <th>Extracurricular Activities</th>\n",
       "      <th>Program Type</th>\n",
       "      <th>FAFSA Status</th>\n",
       "    </tr>\n",
       "  </thead>\n",
       "  <tbody>\n",
       "    <tr>\n",
       "      <th>0</th>\n",
       "      <td>Active</td>\n",
       "      <td>No</td>\n",
       "      <td>Asian</td>\n",
       "      <td>4.28</td>\n",
       "      <td>NaN</td>\n",
       "      <td>1500.0</td>\n",
       "      <td>NaN</td>\n",
       "      <td>A peer</td>\n",
       "      <td>Louisville Youth Orchestra (LYO)\\nLYO’s Presto...</td>\n",
       "      <td>CollegePoint</td>\n",
       "      <td>80-Completed</td>\n",
       "    </tr>\n",
       "    <tr>\n",
       "      <th>1</th>\n",
       "      <td>Active</td>\n",
       "      <td>Yes</td>\n",
       "      <td>Asian</td>\n",
       "      <td>4.00</td>\n",
       "      <td>1500.0</td>\n",
       "      <td>1390.0</td>\n",
       "      <td>NaN</td>\n",
       "      <td>A peer</td>\n",
       "      <td>Stuyvesant Red Cross\\nStuyvesant Road Runners\\...</td>\n",
       "      <td>CollegePoint</td>\n",
       "      <td>80-Completed</td>\n",
       "    </tr>\n",
       "    <tr>\n",
       "      <th>2</th>\n",
       "      <td>Active</td>\n",
       "      <td>Yes</td>\n",
       "      <td>Asian</td>\n",
       "      <td>3.50</td>\n",
       "      <td>1480.0</td>\n",
       "      <td>1460.0</td>\n",
       "      <td>NaN</td>\n",
       "      <td>A Matriculate student or advisor</td>\n",
       "      <td>MSA\\nTech Crew for Stuyvesant Theatre Communit...</td>\n",
       "      <td>CollegePoint</td>\n",
       "      <td>80-Completed</td>\n",
       "    </tr>\n",
       "    <tr>\n",
       "      <th>3</th>\n",
       "      <td>Active</td>\n",
       "      <td>Yes</td>\n",
       "      <td>Asian</td>\n",
       "      <td>4.00</td>\n",
       "      <td>1500.0</td>\n",
       "      <td>1450.0</td>\n",
       "      <td>NaN</td>\n",
       "      <td>A peer,A Matriculate student or advisor</td>\n",
       "      <td>Stuyvesant's Honor Society (ARISTA), Red Cross...</td>\n",
       "      <td>CollegePoint</td>\n",
       "      <td>80-Completed</td>\n",
       "    </tr>\n",
       "    <tr>\n",
       "      <th>4</th>\n",
       "      <td>Active</td>\n",
       "      <td>Yes</td>\n",
       "      <td>Asian</td>\n",
       "      <td>4.00</td>\n",
       "      <td>1410.0</td>\n",
       "      <td>1380.0</td>\n",
       "      <td>NaN</td>\n",
       "      <td>A peer,A Matriculate student or advisor</td>\n",
       "      <td>Traditional Shotokan Karate (student and assis...</td>\n",
       "      <td>CollegePoint</td>\n",
       "      <td>80-Completed</td>\n",
       "    </tr>\n",
       "  </tbody>\n",
       "</table>\n",
       "</div>"
      ],
      "text/plain": [
       "   Status First Generation Ethnicity   GPA     SAT    PSAT  ACT  \\\n",
       "0  Active               No     Asian  4.28     NaN  1500.0  NaN   \n",
       "1  Active              Yes     Asian  4.00  1500.0  1390.0  NaN   \n",
       "2  Active              Yes     Asian  3.50  1480.0  1460.0  NaN   \n",
       "3  Active              Yes     Asian  4.00  1500.0  1450.0  NaN   \n",
       "4  Active              Yes     Asian  4.00  1410.0  1380.0  NaN   \n",
       "\n",
       "       How Did You Hear About Matriculate?  \\\n",
       "0                                   A peer   \n",
       "1                                   A peer   \n",
       "2         A Matriculate student or advisor   \n",
       "3  A peer,A Matriculate student or advisor   \n",
       "4  A peer,A Matriculate student or advisor   \n",
       "\n",
       "                          Extracurricular Activities  Program Type  \\\n",
       "0  Louisville Youth Orchestra (LYO)\\nLYO’s Presto...  CollegePoint   \n",
       "1  Stuyvesant Red Cross\\nStuyvesant Road Runners\\...  CollegePoint   \n",
       "2  MSA\\nTech Crew for Stuyvesant Theatre Communit...  CollegePoint   \n",
       "3  Stuyvesant's Honor Society (ARISTA), Red Cross...  CollegePoint   \n",
       "4  Traditional Shotokan Karate (student and assis...  CollegePoint   \n",
       "\n",
       "   FAFSA Status  \n",
       "0  80-Completed  \n",
       "1  80-Completed  \n",
       "2  80-Completed  \n",
       "3  80-Completed  \n",
       "4  80-Completed  "
      ]
     },
     "execution_count": 3,
     "metadata": {},
     "output_type": "execute_result"
    }
   ],
   "source": [
    "import pandas as pd\n",
    "\n",
    "mat_df = pd.read_csv(mat_csv)\n",
    "\n",
    "mat_df.head()"
   ]
  },
  {
   "cell_type": "code",
   "execution_count": 4,
   "metadata": {},
   "outputs": [
    {
     "data": {
      "text/plain": [
       "Index(['Status', 'First Generation', 'Ethnicity', 'GPA', 'SAT', 'PSAT', 'ACT',\n",
       "       'How Did You Hear About Matriculate?', 'Extracurricular Activities',\n",
       "       'Program Type', 'FAFSA Status'],\n",
       "      dtype='object')"
      ]
     },
     "execution_count": 4,
     "metadata": {},
     "output_type": "execute_result"
    }
   ],
   "source": [
    "mat_df.columns"
   ]
  },
  {
   "cell_type": "code",
   "execution_count": 5,
   "metadata": {},
   "outputs": [],
   "source": [
    "mat_df.rename(columns = {'Program Type': 'Program_Type', 'FAFSA Status': 'FAFSA_Status'}, inplace=True)"
   ]
  },
  {
   "cell_type": "markdown",
   "metadata": {},
   "source": [
    "## 1. % of HSFs that are Active"
   ]
  },
  {
   "cell_type": "markdown",
   "metadata": {},
   "source": [
    "Step 1: Find the number of active HSFs"
   ]
  },
  {
   "cell_type": "code",
   "execution_count": 6,
   "metadata": {},
   "outputs": [
    {
     "data": {
      "text/plain": [
       "Active                              975\n",
       "Never Engaged - no response         531\n",
       "Inactive                            286\n",
       "Never Engaged - not interested       86\n",
       "Never Engaged - no first meeting     85\n",
       "Never Engaged - interested later     38\n",
       "Name: Status, dtype: int64"
      ]
     },
     "execution_count": 6,
     "metadata": {},
     "output_type": "execute_result"
    }
   ],
   "source": [
    "mat_df.Status.value_counts()"
   ]
  },
  {
   "cell_type": "markdown",
   "metadata": {},
   "source": [
    "From the value_counts() function, we see that there are 975 active HSFs. "
   ]
  },
  {
   "cell_type": "code",
   "execution_count": 7,
   "metadata": {},
   "outputs": [],
   "source": [
    "active = mat_df[mat_df['Status'] == 'Active'].shape[0]"
   ]
  },
  {
   "cell_type": "markdown",
   "metadata": {},
   "source": [
    "Putting the number of active HSFs into a variable 'active' to use later on. "
   ]
  },
  {
   "cell_type": "markdown",
   "metadata": {},
   "source": [
    "Step 2: Find total number of HSFs"
   ]
  },
  {
   "cell_type": "code",
   "execution_count": 8,
   "metadata": {},
   "outputs": [
    {
     "data": {
      "text/plain": [
       "2001"
      ]
     },
     "execution_count": 8,
     "metadata": {},
     "output_type": "execute_result"
    }
   ],
   "source": [
    "total_HSFs = mat_df.shape[0]\n",
    "total_HSFs"
   ]
  },
  {
   "cell_type": "markdown",
   "metadata": {},
   "source": [
    "There are 2001 HSFs (from the total number of observations/rows). "
   ]
  },
  {
   "cell_type": "markdown",
   "metadata": {},
   "source": [
    "Step 3: Calculate the % of active HSFs by dividing the number of active HSFs with the total number of HSFs"
   ]
  },
  {
   "cell_type": "code",
   "execution_count": 9,
   "metadata": {},
   "outputs": [
    {
     "data": {
      "text/plain": [
       "0.487256371814093"
      ]
     },
     "execution_count": 9,
     "metadata": {},
     "output_type": "execute_result"
    }
   ],
   "source": [
    "active/total_HSFs"
   ]
  },
  {
   "cell_type": "markdown",
   "metadata": {},
   "source": [
    "48.7% of HSFs are active from this cohort."
   ]
  },
  {
   "cell_type": "markdown",
   "metadata": {},
   "source": [
    "## 2. % of HSFs that are non-white"
   ]
  },
  {
   "cell_type": "markdown",
   "metadata": {},
   "source": [
    "Step 1: Find number of HSFs who are non-white"
   ]
  },
  {
   "cell_type": "code",
   "execution_count": 10,
   "metadata": {},
   "outputs": [
    {
     "data": {
      "text/plain": [
       "1634"
      ]
     },
     "execution_count": 10,
     "metadata": {},
     "output_type": "execute_result"
    }
   ],
   "source": [
    "non_white = mat_df[mat_df['Ethnicity'] != 'White'].shape[0]\n",
    "non_white"
   ]
  },
  {
   "cell_type": "markdown",
   "metadata": {},
   "source": [
    "Step 2: divide the number of non-white HSFs with all the HSFs to find the %"
   ]
  },
  {
   "cell_type": "code",
   "execution_count": 11,
   "metadata": {},
   "outputs": [
    {
     "data": {
      "text/plain": [
       "0.816591704147926"
      ]
     },
     "execution_count": 11,
     "metadata": {},
     "output_type": "execute_result"
    }
   ],
   "source": [
    "non_white/total_HSFs"
   ]
  },
  {
   "cell_type": "markdown",
   "metadata": {},
   "source": [
    "81.7 % of all HSFs are non-white"
   ]
  },
  {
   "cell_type": "markdown",
   "metadata": {},
   "source": [
    "## 3. % of Active HSFs that completed their FAFSA"
   ]
  },
  {
   "cell_type": "markdown",
   "metadata": {},
   "source": [
    "Step 1: Find the number of HSFs who are active and have completed their FAFSA"
   ]
  },
  {
   "cell_type": "code",
   "execution_count": 12,
   "metadata": {},
   "outputs": [
    {
     "data": {
      "text/plain": [
       "975"
      ]
     },
     "execution_count": 12,
     "metadata": {},
     "output_type": "execute_result"
    }
   ],
   "source": [
    "active"
   ]
  },
  {
   "cell_type": "code",
   "execution_count": 13,
   "metadata": {},
   "outputs": [
    {
     "data": {
      "text/plain": [
       "901"
      ]
     },
     "execution_count": 13,
     "metadata": {},
     "output_type": "execute_result"
    }
   ],
   "source": [
    "active_FAFSA_complete = mat_df[(mat_df['Status'] == 'Active') & (mat_df['FAFSA_Status'] == '80-Completed')].shape[0]\n",
    "active_FAFSA_complete"
   ]
  },
  {
   "cell_type": "markdown",
   "metadata": {},
   "source": [
    "Step 2: Divide the number of HSFs who are active and have completed their FAFSA by the number of active HSFs"
   ]
  },
  {
   "cell_type": "code",
   "execution_count": 14,
   "metadata": {},
   "outputs": [
    {
     "data": {
      "text/plain": [
       "0.9241025641025641"
      ]
     },
     "execution_count": 14,
     "metadata": {},
     "output_type": "execute_result"
    }
   ],
   "source": [
    "active_FAFSA_complete/active"
   ]
  },
  {
   "cell_type": "markdown",
   "metadata": {},
   "source": [
    "92.4% of active HSFs have completed their FAFSA"
   ]
  },
  {
   "cell_type": "markdown",
   "metadata": {},
   "source": [
    "## 4. % of College Board HSFs that are First Generation students"
   ]
  },
  {
   "cell_type": "markdown",
   "metadata": {},
   "source": [
    "Step 1: Find the number of College Board HSFs"
   ]
  },
  {
   "cell_type": "code",
   "execution_count": 15,
   "metadata": {},
   "outputs": [
    {
     "data": {
      "text/plain": [
       "233"
      ]
     },
     "execution_count": 15,
     "metadata": {},
     "output_type": "execute_result"
    }
   ],
   "source": [
    "CB_HSFs = mat_df[mat_df['Program_Type'] == 'College Board'].shape[0]\n",
    "CB_HSFs"
   ]
  },
  {
   "cell_type": "markdown",
   "metadata": {},
   "source": [
    "Step 2: Find the number of College Board HSFS who are also First Generation students"
   ]
  },
  {
   "cell_type": "code",
   "execution_count": 16,
   "metadata": {},
   "outputs": [
    {
     "data": {
      "text/plain": [
       "9"
      ]
     },
     "execution_count": 16,
     "metadata": {},
     "output_type": "execute_result"
    }
   ],
   "source": [
    "CB_First_Gen = mat_df[(mat_df['Program_Type'] == 'College Board') & (mat_df['First Generation'] == 'Yes')].shape[0]\n",
    "CB_First_Gen"
   ]
  },
  {
   "cell_type": "markdown",
   "metadata": {},
   "source": [
    "Step 3: Divide the number of First Generation College Board HSFs by the number of College Board HSFs"
   ]
  },
  {
   "cell_type": "code",
   "execution_count": 18,
   "metadata": {},
   "outputs": [
    {
     "data": {
      "text/plain": [
       "0.03862660944206009"
      ]
     },
     "execution_count": 18,
     "metadata": {},
     "output_type": "execute_result"
    }
   ],
   "source": [
    "CB_First_Gen / CB_HSFs"
   ]
  },
  {
   "cell_type": "markdown",
   "metadata": {},
   "source": [
    "3% of College Board HSFs are First Generation students"
   ]
  },
  {
   "cell_type": "markdown",
   "metadata": {},
   "source": [
    "## 5. % of Inactive HSFs who also have an SAT below 1500"
   ]
  },
  {
   "cell_type": "markdown",
   "metadata": {},
   "source": [
    "Step 1: Find the number of Inactive HSFs"
   ]
  },
  {
   "cell_type": "code",
   "execution_count": 22,
   "metadata": {},
   "outputs": [
    {
     "data": {
      "text/plain": [
       "286"
      ]
     },
     "execution_count": 22,
     "metadata": {},
     "output_type": "execute_result"
    }
   ],
   "source": [
    "inactive = mat_df[mat_df['Status'] == 'Inactive'].shape[0]\n",
    "inactive # which is the same as the number of inactive HSFs we found with the value_counts() function"
   ]
  },
  {
   "cell_type": "markdown",
   "metadata": {},
   "source": [
    "Step 2: Find the number of inactive HSFs who also have an SAT score below 1500"
   ]
  },
  {
   "cell_type": "code",
   "execution_count": 24,
   "metadata": {},
   "outputs": [
    {
     "data": {
      "text/plain": [
       "64"
      ]
     },
     "execution_count": 24,
     "metadata": {},
     "output_type": "execute_result"
    }
   ],
   "source": [
    "inactive_SAT_1500 = mat_df[(mat_df['Status'] == 'Inactive') & (mat_df['SAT'] < 1500)].shape[0]\n",
    "inactive_SAT_1500"
   ]
  },
  {
   "cell_type": "markdown",
   "metadata": {},
   "source": [
    "Step 3: Divide the number of inactive HSFs who an SAT score below 1500 with the number of inactive HSFs"
   ]
  },
  {
   "cell_type": "code",
   "execution_count": 25,
   "metadata": {},
   "outputs": [
    {
     "data": {
      "text/plain": [
       "0.22377622377622378"
      ]
     },
     "execution_count": 25,
     "metadata": {},
     "output_type": "execute_result"
    }
   ],
   "source": [
    "inactive_SAT_1500/inactive"
   ]
  },
  {
   "cell_type": "markdown",
   "metadata": {},
   "source": [
    "22% of inactive HSFs have an SAT score of below 1500. We can't say anything definitive about there being a correlation between having a lower SAT score with being inactive since being inactive can have more to do with other variables such as not being interested in the program because they have a good counselor, etc. "
   ]
  },
  {
   "cell_type": "markdown",
   "metadata": {},
   "source": [
    "## 6. % of Asian HSFs who are First Generation students"
   ]
  },
  {
   "cell_type": "markdown",
   "metadata": {},
   "source": [
    "Step 1: Find number of Asian HSFs"
   ]
  },
  {
   "cell_type": "code",
   "execution_count": 28,
   "metadata": {},
   "outputs": [
    {
     "data": {
      "text/plain": [
       "448"
      ]
     },
     "execution_count": 28,
     "metadata": {},
     "output_type": "execute_result"
    }
   ],
   "source": [
    "asian = mat_df[mat_df['Ethnicity'] == 'Asian'].shape[0]\n",
    "asian"
   ]
  },
  {
   "cell_type": "markdown",
   "metadata": {},
   "source": [
    "Step 2: Find the number of first generation Asian students"
   ]
  },
  {
   "cell_type": "code",
   "execution_count": 32,
   "metadata": {},
   "outputs": [
    {
     "data": {
      "text/plain": [
       "267"
      ]
     },
     "execution_count": 32,
     "metadata": {},
     "output_type": "execute_result"
    }
   ],
   "source": [
    "asian_first_gen = mat_df[(mat_df['Ethnicity'] == 'Asian') & (mat_df['First Generation'] == 'Yes')].shape[0]\n",
    "asian_first_gen"
   ]
  },
  {
   "cell_type": "markdown",
   "metadata": {},
   "source": [
    "Step 3: Divide the number of First Generation Asian students by the number of Asian students"
   ]
  },
  {
   "cell_type": "code",
   "execution_count": 35,
   "metadata": {},
   "outputs": [
    {
     "data": {
      "text/plain": [
       "0.5959821428571429"
      ]
     },
     "execution_count": 35,
     "metadata": {},
     "output_type": "execute_result"
    }
   ],
   "source": [
    "asian_first_gen/asian"
   ]
  },
  {
   "cell_type": "markdown",
   "metadata": {},
   "source": [
    "59.6% of Asian HSFs are First Generation!"
   ]
  }
 ],
 "metadata": {
  "kernelspec": {
   "display_name": "Python 3",
   "language": "python",
   "name": "python3"
  },
  "language_info": {
   "codemirror_mode": {
    "name": "ipython",
    "version": 3
   },
   "file_extension": ".py",
   "mimetype": "text/x-python",
   "name": "python",
   "nbconvert_exporter": "python",
   "pygments_lexer": "ipython3",
   "version": "3.7.6"
  }
 },
 "nbformat": 4,
 "nbformat_minor": 4
}
